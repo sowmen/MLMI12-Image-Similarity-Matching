{
 "cells": [
  {
   "cell_type": "code",
   "execution_count": 1,
   "metadata": {},
   "outputs": [],
   "source": [
    "%load_ext autoreload\n",
    "%autoreload 2"
   ]
  },
  {
   "cell_type": "code",
   "execution_count": 9,
   "metadata": {},
   "outputs": [],
   "source": [
    "import numpy as np\n",
    "import cv2\n",
    "import matplotlib.pyplot as plt\n",
    "import pandas as pd\n",
    "import timm\n",
    "import torch\n",
    "import os\n",
    "from tqdm import tqdm\n",
    "\n",
    "from torchvision import transforms\n",
    "from utils import label_to_id, AverageMeter\n",
    "from sklearn.metrics.pairwise import cosine_similarity\n",
    "from torchmetrics import Accuracy"
   ]
  },
  {
   "cell_type": "code",
   "execution_count": 25,
   "metadata": {},
   "outputs": [],
   "source": [
    "NUM_CLASSES = 50\n",
    "device =  'cuda'\n",
    "DATA_ROOT = \"tiny-imagenet-200\""
   ]
  },
  {
   "cell_type": "code",
   "execution_count": 26,
   "metadata": {},
   "outputs": [],
   "source": [
    "from models import Network\n",
    "model = Network(NUM_CLASSES, emb_dim=256)\n",
    "model.to(device)\n",
    "model.load_state_dict(torch.load('weights/Triplet512end-end50_[27_12_18_45_51].h5'))\n",
    "model.eval();"
   ]
  },
  {
   "cell_type": "code",
   "execution_count": 27,
   "metadata": {},
   "outputs": [],
   "source": [
    "transform = transforms.Compose([\n",
    "            transforms.ToPILImage(),\n",
    "            transforms.Resize((128, 128)),\n",
    "            transforms.ToTensor(),\n",
    "            transforms.Normalize((0.485, 0.456, 0.406), (0.229, 0.224, 0.225)),\n",
    "        ])"
   ]
  },
  {
   "cell_type": "code",
   "execution_count": 32,
   "metadata": {},
   "outputs": [],
   "source": [
    "from sklearn.metrics import accuracy_score, top_k_accuracy_score\n",
    "\n",
    "def test(path): \n",
    "    print(\"Testing ---- \", path)\n",
    "\n",
    "    seen_seen_df = pd.read_csv(path).values\n",
    "\n",
    "    pred_outs = []\n",
    "    similarity_outs = []\n",
    "    labels = []\n",
    "    for row in tqdm(seen_seen_df):\n",
    "\n",
    "        im1 = cv2.imread(os.path.join(DATA_ROOT, row[0]), cv2.IMREAD_COLOR)\n",
    "        im1 = cv2.cvtColor(im1, cv2.COLOR_BGR2RGB)\n",
    "        tensor1 = transform(im1).unsqueeze(0).to(device)\n",
    "\n",
    "        feature1 = model.forward_features(tensor1).cpu().squeeze()\n",
    "        # feature1 = torch.flatten(feature1).squeeze()\n",
    "        feature1 = torch.nn.functional.avg_pool2d(feature1, 4)\n",
    "        feature1 = torch.nn.functional.normalize(feature1).squeeze()\n",
    "\n",
    "        out1 = model(tensor1).cpu().squeeze().argmax()\n",
    "\n",
    "        ########################################\n",
    "\n",
    "        im2 = cv2.imread(os.path.join(DATA_ROOT, row[1]), cv2.IMREAD_COLOR)\n",
    "        im2 = cv2.cvtColor(im2, cv2.COLOR_BGR2RGB)\n",
    "        tensor2 = transform(im2).unsqueeze(0).to(device)\n",
    "\n",
    "        feature2 = model.forward_features(tensor2).cpu().squeeze()\n",
    "        # feature2 = torch.flatten(feature2).squeeze()\n",
    "        feature2 = torch.nn.functional.avg_pool2d(feature2, 4)\n",
    "        feature2 = torch.nn.functional.normalize(feature2).squeeze()\n",
    "\n",
    "        out2 = model(tensor2).cpu().squeeze().argmax()\n",
    "\n",
    "        #########################################\n",
    "\n",
    "        pred_outs.append(1 if out1.item() == out2.item() else 0)\n",
    "        labels.append(row[2])\n",
    "\n",
    "        csim = torch.nn.functional.cosine_similarity(feature1, feature2, dim=0).item()\n",
    "        similarity_outs.append(1 if csim > 0.1 else 0)\n",
    "\n",
    "    \n",
    "    print(\"Multiclass Accuracy: \", accuracy_score(labels, pred_outs))\n",
    "    print(\"Cosine Similarity (0.1) Accuracy: \", accuracy_score(labels, similarity_outs))"
   ]
  },
  {
   "cell_type": "code",
   "execution_count": 34,
   "metadata": {},
   "outputs": [],
   "source": [
    "from sklearn.metrics import accuracy_score, top_k_accuracy_score\n",
    "\n",
    "def test_triplet(path): \n",
    "    print(\"Testing ---- \", path)\n",
    "\n",
    "    seen_seen_df = pd.read_csv(path).values\n",
    "\n",
    "    similarity_outs = []\n",
    "    labels = []\n",
    "    for row in tqdm(seen_seen_df):\n",
    "\n",
    "        im1 = cv2.imread(os.path.join(DATA_ROOT, row[0]), cv2.IMREAD_COLOR)\n",
    "        im1 = cv2.cvtColor(im1, cv2.COLOR_BGR2RGB)\n",
    "        tensor1 = transform(im1).unsqueeze(0).to(device)\n",
    "\n",
    "        feature1 = model(tensor1).cpu()\n",
    "        feature1 = torch.nn.functional.normalize(feature1).squeeze()\n",
    "\n",
    "        ########################################\n",
    "\n",
    "        im2 = cv2.imread(os.path.join(DATA_ROOT, row[1]), cv2.IMREAD_COLOR)\n",
    "        im2 = cv2.cvtColor(im2, cv2.COLOR_BGR2RGB)\n",
    "        tensor2 = transform(im2).unsqueeze(0).to(device)\n",
    "\n",
    "        feature2 = model(tensor2).cpu()\n",
    "        feature2 = torch.nn.functional.normalize(feature2).squeeze()\n",
    "\n",
    "\n",
    "        #########################################\n",
    "        labels.append(row[2])\n",
    "\n",
    "        csim = torch.nn.functional.cosine_similarity(feature1, feature2, dim=0).item()\n",
    "        similarity_outs.append(1 if csim > 0.1 else 0)\n",
    "\n",
    "    \n",
    "    print(\"Cosine Similarity (0.1) Accuracy: \", accuracy_score(labels, similarity_outs))"
   ]
  },
  {
   "cell_type": "code",
   "execution_count": 35,
   "metadata": {},
   "outputs": [
    {
     "name": "stdout",
     "output_type": "stream",
     "text": [
      "Testing ----  seen_seen_test.csv\n"
     ]
    },
    {
     "name": "stderr",
     "output_type": "stream",
     "text": [
      "100%|██████████| 1000/1000 [01:31<00:00, 10.92it/s]\n"
     ]
    },
    {
     "name": "stdout",
     "output_type": "stream",
     "text": [
      "Cosine Similarity (0.1) Accuracy:  0.808\n",
      "Testing ----  seen_unseen_test.csv\n"
     ]
    },
    {
     "name": "stderr",
     "output_type": "stream",
     "text": [
      "100%|██████████| 200/200 [00:18<00:00, 10.84it/s]\n"
     ]
    },
    {
     "name": "stdout",
     "output_type": "stream",
     "text": [
      "Cosine Similarity (0.1) Accuracy:  0.71\n",
      "Testing ----  unseen_unseen_test.csv\n"
     ]
    },
    {
     "name": "stderr",
     "output_type": "stream",
     "text": [
      "100%|██████████| 200/200 [00:18<00:00, 10.79it/s]"
     ]
    },
    {
     "name": "stdout",
     "output_type": "stream",
     "text": [
      "Cosine Similarity (0.1) Accuracy:  0.775\n"
     ]
    },
    {
     "name": "stderr",
     "output_type": "stream",
     "text": [
      "\n"
     ]
    }
   ],
   "source": [
    "test_triplet('seen_seen_test.csv')\n",
    "test_triplet('seen_unseen_test.csv')\n",
    "test_triplet('unseen_unseen_test.csv')"
   ]
  }
 ],
 "metadata": {
  "kernelspec": {
   "display_name": "DLenv",
   "language": "python",
   "name": "python3"
  },
  "language_info": {
   "codemirror_mode": {
    "name": "ipython",
    "version": 3
   },
   "file_extension": ".py",
   "mimetype": "text/x-python",
   "name": "python",
   "nbconvert_exporter": "python",
   "pygments_lexer": "ipython3",
   "version": "3.8.13 (default, Mar 28 2022, 06:59:08) [MSC v.1916 64 bit (AMD64)]"
  },
  "orig_nbformat": 4,
  "vscode": {
   "interpreter": {
    "hash": "6e27fdd685364325128668c401744e268eed4a605f1a6553ece99da66ad5edbc"
   }
  }
 },
 "nbformat": 4,
 "nbformat_minor": 2
}
